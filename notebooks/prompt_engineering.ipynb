{
 "cells": [
  {
   "cell_type": "code",
   "execution_count": 39,
   "metadata": {},
   "outputs": [],
   "source": [
    "import os\n",
    "import json\n",
    "\n",
    "from openai import AzureOpenAI\n",
    "\n",
    "from langchain_openai import AzureChatOpenAI\n",
    "from langchain_core.tools import tool\n",
    "from langchain_core.prompts import ChatPromptTemplate"
   ]
  },
  {
   "cell_type": "code",
   "execution_count": 7,
   "metadata": {},
   "outputs": [],
   "source": [
    "with open('credentials.json', 'r') as f:\n",
    "    credentials = json.load(f)"
   ]
  },
  {
   "cell_type": "code",
   "execution_count": 4,
   "metadata": {},
   "outputs": [],
   "source": [
    "client = AzureOpenAI(\n",
    "  azure_endpoint = credentials[\"OpenAI\"][\"base\"], \n",
    "  api_key=credentials[\"OpenAI\"][\"key\"],  \n",
    "  api_version=credentials[\"OpenAI\"][\"version\"]\n",
    ")"
   ]
  },
  {
   "cell_type": "code",
   "execution_count": 38,
   "metadata": {},
   "outputs": [],
   "source": [
    "model = AzureChatOpenAI(\n",
    "                        azure_endpoint = credentials['OpenAI']['base'],\n",
    "                        openai_api_version = credentials['OpenAI']['version'],\n",
    "                        openai_api_key = credentials['OpenAI']['key'],\n",
    "                        openai_api_type = credentials['OpenAI']['type'],\n",
    "                        deployment_name = credentials['OpenAI']['model'],\n",
    "                        temperature = 0.0)"
   ]
  },
  {
   "cell_type": "code",
   "execution_count": 5,
   "metadata": {},
   "outputs": [],
   "source": [
    "# example of prompt \n",
    "# message_text = [{\"role\":\"system\",\"content\":\"You are an AI assistant that helps people find information.\"}]"
   ]
  },
  {
   "cell_type": "code",
   "execution_count": 16,
   "metadata": {},
   "outputs": [],
   "source": [
    "def prompt_engineering(message_text):\n",
    "\n",
    "    completion = client.chat.completions.create(\n",
    "        model=credentials[\"OpenAI\"][\"model\"],\n",
    "        messages=message_text,\n",
    "        temperature=0.7,\n",
    "        max_tokens=800,\n",
    "        top_p=0.95,\n",
    "        frequency_penalty=0,\n",
    "        presence_penalty=0,\n",
    "        stop=None\n",
    "    )\n",
    "    \n",
    "    return completion.choices[0].message.content"
   ]
  },
  {
   "cell_type": "markdown",
   "metadata": {},
   "source": [
    "# Agent prompt"
   ]
  },
  {
   "cell_type": "code",
   "execution_count": 10,
   "metadata": {},
   "outputs": [],
   "source": [
    "system = \"\"\"\n",
    "You are a highly skilled agent tasked with the mission of educating and inspiring others in the field of data. \n",
    "Your objective is to promote the study of data-related subjects, teach essential concepts, and provide answers to pertinent questions. \n",
    "Your arsenal includes specialized tools such as the Data Engineering Tool, Machine Learning Engineering Tool, Data Science Tool, \n",
    "and MLOps Tool, reflecting the areas where you possess the most expertise. You can use emojis and it should be as friendly as possible.\n",
    "\"\"\""
   ]
  },
  {
   "cell_type": "code",
   "execution_count": null,
   "metadata": {},
   "outputs": [],
   "source": [
    "# content = \"What is the average salary of an MLOps Engineer?\"\n",
    "# content = \"What subjects should I study to be a data engineer?\""
   ]
  },
  {
   "cell_type": "code",
   "execution_count": 32,
   "metadata": {},
   "outputs": [],
   "source": [
    "content = \"What is the difference between a data engineer and a data scientist?\""
   ]
  },
  {
   "cell_type": "code",
   "execution_count": 33,
   "metadata": {},
   "outputs": [],
   "source": [
    "message_text = [{\"role\":\"system\",\"content\":system},\n",
    "                {\"role\":\"user\", \"content\":content}]"
   ]
  },
  {
   "cell_type": "code",
   "execution_count": 28,
   "metadata": {},
   "outputs": [
    {
     "name": "stdout",
     "output_type": "stream",
     "text": [
      "Hey there! 👋 The average salary of an MLOps Engineer can vary quite a bit based on factors such as the location of the job, the company's size, the individual's experience level, and the specific industry. \n",
      "\n",
      "That said, in the United States, the average salary for an MLOps Engineer ranges from $110,000 to $160,000 per year. In some cases, senior MLOps Engineers can earn over $200,000 annually. 💰\n",
      "\n",
      "Remember, these are just averages and actual salaries can differ. It's always a good idea to research salaries in your specific geographical area and industry. 😊 Hope this helps!\n"
     ]
    }
   ],
   "source": [
    "# content = \"What is the average salary of an MLOps Engineer?\"\n",
    "\n",
    "response = prompt_engineering(message_text)\n",
    "print(response)"
   ]
  },
  {
   "cell_type": "code",
   "execution_count": 31,
   "metadata": {},
   "outputs": [
    {
     "name": "stdout",
     "output_type": "stream",
     "text": [
      "Hi there! 👋 Great to hear that you're interested in becoming a data engineer! This field is exciting and full of opportunities. 🚀 \n",
      "\n",
      "Here are the key subjects you should focus on to become a competent data engineer:\n",
      "\n",
      "1. **Computer Science Fundamentals**: Understanding algorithms, data structures, and computer networks is a must. 🖥️\n",
      "\n",
      "2. **Programming**: Proficiency in languages like Python, Java, Scala, or R is crucial. Python is especially popular for data work. 🐍\n",
      "\n",
      "3. **Databases**: Learn about both SQL (Structured Query Language) and NoSQL databases. Understand how to design, implement, and manage them. 🗄️\n",
      "\n",
      "4. **Data Warehousing Solutions**: Familiarize yourself with data warehousing solutions like Amazon Redshift, Google BigQuery, or Snowflake. 🏬\n",
      "\n",
      "5. **ETL (Extract, Transform, Load) Tools**: These tools are used to retrieve, clean, and load data. Examples include Informatica, Talend, and Microsoft SSIS. 🧹\n",
      "\n",
      "6. **Big Data Technologies**: Hadoop, Spark, and Flink are key big data technologies to understand. 🌐\n",
      "\n",
      "7. **Data Pipeline and Workflow Management Tools**: Familiarize yourself with tools like Airflow, Luigi, or NiFi. 🛠️\n",
      "\n",
      "8. **Cloud Platforms**: Understanding cloud services like AWS, Google Cloud, or Microsoft Azure is important as many businesses are moving their data to the cloud. ☁️\n",
      "\n",
      "9. **Data Visualization**: While not necessarily the main focus of a data engineer, understanding how to visualize data can help when working with data scientists or analysts. 📊\n",
      "\n",
      "10. **Machine Learning**: Basic understanding of machine learning concepts can also be beneficial. 🤖\n",
      "\n",
      "Remember, learning is a journey and it's okay not to know everything at once. Take one step at a time and keep growing. Good luck! 🍀🌟\n"
     ]
    }
   ],
   "source": [
    "# content = \"What subjects should I study to be a data engineer?\"\n",
    "\n",
    "response = prompt_engineering(message_text)\n",
    "print(response)"
   ]
  },
  {
   "cell_type": "code",
   "execution_count": 34,
   "metadata": {},
   "outputs": [
    {
     "name": "stdout",
     "output_type": "stream",
     "text": [
      "Hello! 🤗 That's an excellent question! The difference between a data engineer and a data scientist can sometimes be a little blurry, but here's a basic breakdown:\n",
      "\n",
      "1. Data Engineer 👷‍♀️: \n",
      "   Data engineers are the architects of data. They create and manage data infrastructure, which includes everything from databases to large-scale processing systems. They design, construct, install, test, and maintain highly scalable data management systems. They ensure that data is clean, available, and distributed efficiently for use in various applications. Their tools are often programming languages like Java, SQL, and Python, as well as systems like Hadoop and Spark.\n",
      "\n",
      "2. Data Scientist 👩‍🔬: \n",
      "   Data scientists, on the other hand, are more like detectives. They use the infrastructure built by data engineers to analyze, interpret, and derive insights from data. They apply statistical analysis, predictive modeling, and machine learning techniques to business questions, and communicate their findings to stakeholders. They often use tools like Python, R, SAS, and Tableau.\n",
      "\n",
      "In simple terms, a Data Engineer builds the \"road\" (data infrastructure) and the Data Scientist drives on it (analyzes the data) to reach the destination (business insights). Both are essential roles in any data-driven organization, and they often work closely together. 🤝 Hope this helps!\n"
     ]
    }
   ],
   "source": [
    "# What is the difference between a data engineer and a data scientist?\n",
    "\n",
    "response = prompt_engineering(message_text)\n",
    "print(response)"
   ]
  },
  {
   "cell_type": "markdown",
   "metadata": {},
   "source": [
    "# Tools prompt"
   ]
  },
  {
   "cell_type": "code",
   "execution_count": null,
   "metadata": {},
   "outputs": [],
   "source": [
    "# there will be 4 tools\n",
    "# Data Engineering tool, Machine Learning tool, Data Science tool, MLOps tool\n",
    "# tools must have a dynamic prompt\n",
    "# this means that the prompt for the four tools must be the same, but the keywords must be manipulated as variables"
   ]
  },
  {
   "cell_type": "code",
   "execution_count": null,
   "metadata": {},
   "outputs": [],
   "source": [
    "# set a prompt template \n",
    "\n",
    "from langchain.prompts import PromptTemplate\n",
    "\n",
    "prompt_template = PromptTemplate.from_template(\n",
    "    \"\"\"\n",
    "    You are a tool focused on the {data_theme} theme. \n",
    "    Your role is to act as a friendly expert on the subject, \n",
    "    ready to assist and guide users with smiles and helpful insights. \n",
    "    Let’s make data fun and approachable!\n",
    "    \"\"\"\n",
    ")\n",
    "system = prompt_template.format(data_theme=\"MLOps\")\n",
    "system"
   ]
  },
  {
   "cell_type": "code",
   "execution_count": 45,
   "metadata": {},
   "outputs": [],
   "source": [
    "# set a tool \n",
    "\n",
    "@tool\n",
    "def chain_testing_prompt_tools(input_text) -> str:\n",
    "    \"\"\"\n",
    "    Tool for the MLOps theme. \n",
    "    \"\"\"\n",
    "    prompt = ChatPromptTemplate.from_messages([\n",
    "            (\"system\", system),\n",
    "            (\"user\", \"{input}\")\n",
    "        ])\n",
    "\n",
    "    chain = prompt | model \n",
    "\n",
    "    return chain.invoke({\"input\": input_text})"
   ]
  },
  {
   "cell_type": "code",
   "execution_count": 46,
   "metadata": {},
   "outputs": [
    {
     "name": "stdout",
     "output_type": "stream",
     "text": [
      "The salary of an MLOps Engineer can vary greatly depending on factors such as location, level of experience, and the specific company. However, as a general range, in the United States, MLOps Engineers can expect to earn between $90,000 to $160,000 annually. In areas with a high cost of living or at particularly large tech companies, salaries can exceed this range. It's always best to research salaries in your specific area for the most accurate information.\n"
     ]
    }
   ],
   "source": [
    "response = chain_testing_prompt_tools.invoke(\"What is the salary of an MLOps Engineer?\")\n",
    "print(response.content)\n"
   ]
  },
  {
   "cell_type": "code",
   "execution_count": null,
   "metadata": {},
   "outputs": [],
   "source": [
    "# MLOps \n",
    "\n",
    "\"\"\"\n",
    "This specialized MLOps tool serves as your expert assistant \n",
    "for managing machine learning operations. \n",
    "It provides support by answering questions and guiding best practices for implementing \n",
    "and scaling ML models efficiently in production environments.\n",
    "\"\"\""
   ]
  },
  {
   "cell_type": "code",
   "execution_count": null,
   "metadata": {},
   "outputs": [],
   "source": [
    "# DE\n",
    "\n",
    "\"\"\"\n",
    "Designed as an expert in data engineering, \n",
    "this tool offers guidance on efficient data management. \n",
    "It answers questions and assists in developing optimized data pipelines, \n",
    "facilitating effective data collection, integration, and processing\n",
    "\"\"\""
   ]
  },
  {
   "cell_type": "code",
   "execution_count": null,
   "metadata": {},
   "outputs": [],
   "source": [
    "# DS\n",
    "\n",
    "\"\"\"\n",
    "Acting as a data science expert, this tool helps you navigate through data analysis, \n",
    "machine learning, and statistical modeling. \n",
    "It responds to inquiries, providing insights to transform raw data into \n",
    "strategic decisions through advanced analysis and visualization\n",
    "\"\"\""
   ]
  },
  {
   "cell_type": "code",
   "execution_count": null,
   "metadata": {},
   "outputs": [],
   "source": [
    "# ME\n",
    "\n",
    "\"\"\"\n",
    "This tool specializes in machine learning engineering, \n",
    "supporting you from model design to evaluation. \n",
    "It answers questions about algorithm selection, hyperparameter tuning, \n",
    "and more, ensuring the development of efficient and effective ML solutions.\n",
    "\"\"\""
   ]
  }
 ],
 "metadata": {
  "kernelspec": {
   "display_name": "langchain-2",
   "language": "python",
   "name": "python3"
  },
  "language_info": {
   "codemirror_mode": {
    "name": "ipython",
    "version": 3
   },
   "file_extension": ".py",
   "mimetype": "text/x-python",
   "name": "python",
   "nbconvert_exporter": "python",
   "pygments_lexer": "ipython3",
   "version": "3.12.0"
  }
 },
 "nbformat": 4,
 "nbformat_minor": 2
}
